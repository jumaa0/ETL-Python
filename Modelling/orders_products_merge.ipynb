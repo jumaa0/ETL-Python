{
 "cells": [
  {
   "cell_type": "code",
   "execution_count": 1,
   "metadata": {},
   "outputs": [],
   "source": [
    "import pandas as pd\n",
    "import os"
   ]
  },
  {
   "cell_type": "code",
   "execution_count": 2,
   "metadata": {},
   "outputs": [],
   "source": [
    "\n",
    "# Load orders.csv, order_items.csv, and products.csv\n",
    "orders_df = pd.read_csv('../Staging_2/Orders/orders.csv')\n",
    "order_items_df = pd.read_csv('../Staging_2/order_items/order_items.csv')\n",
    "products_df = pd.read_csv('../Staging_2/Products/products.csv')\n"
   ]
  },
  {
   "cell_type": "code",
   "execution_count": 3,
   "metadata": {},
   "outputs": [
    {
     "name": "stdout",
     "output_type": "stream",
     "text": [
      "<class 'pandas.core.frame.DataFrame'>\n",
      "RangeIndex: 4069 entries, 0 to 4068\n",
      "Data columns (total 29 columns):\n",
      " #   Column             Non-Null Count  Dtype  \n",
      "---  ------             --------------  -----  \n",
      " 0   order_id           4069 non-null   int64  \n",
      " 1   customer_id        4069 non-null   int64  \n",
      " 2   order_status       4069 non-null   int64  \n",
      " 3   order_date         4069 non-null   object \n",
      " 4   required_date      4069 non-null   object \n",
      " 5   shipped_date       4069 non-null   object \n",
      " 6   store_id           4069 non-null   int64  \n",
      " 7   staff_id           4069 non-null   int64  \n",
      " 8   source_x           4069 non-null   object \n",
      " 9   timestamp_saved_x  4069 non-null   object \n",
      " 10  late_delivery      4069 non-null   bool   \n",
      " 11  latency_days       4069 non-null   object \n",
      " 12  weekend            4069 non-null   bool   \n",
      " 13  item_id            4069 non-null   int64  \n",
      " 14  product_id         4069 non-null   int64  \n",
      " 15  quantity           4069 non-null   int64  \n",
      " 16  list_price_x       4069 non-null   float64\n",
      " 17  discount           4069 non-null   float64\n",
      " 18  source_y           4069 non-null   object \n",
      " 19  timestamp_saved_y  4069 non-null   object \n",
      " 20  rates.EGP          4069 non-null   float64\n",
      " 21  list_price_egp     4069 non-null   float64\n",
      " 22  product_name       4069 non-null   object \n",
      " 23  brand_id           4069 non-null   int64  \n",
      " 24  category_id        4069 non-null   int64  \n",
      " 25  model_year         4069 non-null   int64  \n",
      " 26  list_price_y       4069 non-null   float64\n",
      " 27  source             4069 non-null   object \n",
      " 28  timestamp_saved    4069 non-null   object \n",
      "dtypes: bool(2), float64(5), int64(11), object(11)\n",
      "memory usage: 866.4+ KB\n"
     ]
    }
   ],
   "source": [
    "\n",
    "# Merge orders_df with order_items_df on 'order_id'\n",
    "merged_df = pd.merge(orders_df, order_items_df, on='order_id', how='inner')\n",
    "\n",
    "# Merge merged_df with products_df on 'product_id'\n",
    "final_df = pd.merge(merged_df, products_df, on='product_id', how='inner')\n",
    "final_df.info()"
   ]
  },
  {
   "cell_type": "code",
   "execution_count": 4,
   "metadata": {},
   "outputs": [
    {
     "name": "stdout",
     "output_type": "stream",
     "text": [
      "<class 'pandas.core.frame.DataFrame'>\n",
      "RangeIndex: 4069 entries, 0 to 4068\n",
      "Data columns (total 21 columns):\n",
      " #   Column          Non-Null Count  Dtype  \n",
      "---  ------          --------------  -----  \n",
      " 0   order_id        4069 non-null   int64  \n",
      " 1   customer_id     4069 non-null   int64  \n",
      " 2   order_status    4069 non-null   int64  \n",
      " 3   order_date      4069 non-null   object \n",
      " 4   required_date   4069 non-null   object \n",
      " 5   shipped_date    4069 non-null   object \n",
      " 6   store_id        4069 non-null   int64  \n",
      " 7   staff_id        4069 non-null   int64  \n",
      " 8   late_delivery   4069 non-null   bool   \n",
      " 9   latency_days    4069 non-null   object \n",
      " 10  weekend         4069 non-null   bool   \n",
      " 11  item_id         4069 non-null   int64  \n",
      " 12  product_id      4069 non-null   int64  \n",
      " 13  quantity        4069 non-null   int64  \n",
      " 14  discount        4069 non-null   float64\n",
      " 15  rates.EGP       4069 non-null   float64\n",
      " 16  list_price_egp  4069 non-null   float64\n",
      " 17  product_name    4069 non-null   object \n",
      " 18  brand_id        4069 non-null   int64  \n",
      " 19  category_id     4069 non-null   int64  \n",
      " 20  model_year      4069 non-null   int64  \n",
      "dtypes: bool(2), float64(3), int64(11), object(5)\n",
      "memory usage: 612.1+ KB\n"
     ]
    }
   ],
   "source": [
    "\n",
    "columns_to_drop = ['timestamp_saved', 'source', 'timestamp_saved_y', 'source_y', 'source_x', 'timestamp_saved_x', 'list_price_x', 'list_price_y']\n",
    "final_df.drop(columns=columns_to_drop, inplace=True)\n",
    "final_df.info()\n"
   ]
  },
  {
   "cell_type": "code",
   "execution_count": 5,
   "metadata": {},
   "outputs": [],
   "source": [
    "order_status_lookup_df =  pd.read_csv('../Staging_2/Order_Lookup/Order_Lookup.csv')\n",
    "final_df = pd.merge(final_df, order_status_lookup_df, left_on='order_status', right_on='order_status', how='left')\n"
   ]
  },
  {
   "cell_type": "code",
   "execution_count": 6,
   "metadata": {},
   "outputs": [],
   "source": [
    "final_df.drop(columns=['order_status'], inplace=True)\n",
    "final_df.rename(columns={'status_description': 'order_status'}, inplace=True)"
   ]
  },
  {
   "cell_type": "code",
   "execution_count": 7,
   "metadata": {},
   "outputs": [],
   "source": [
    "\n",
    "# Save the merged DataFrame to a CSV file named 'orders_products_details.csv'\n",
    "final_df.to_csv('Information Mart/orders_products_details.csv', index=False)\n"
   ]
  },
  {
   "cell_type": "code",
   "execution_count": 8,
   "metadata": {},
   "outputs": [
    {
     "name": "stdout",
     "output_type": "stream",
     "text": [
      "<class 'pandas.core.frame.DataFrame'>\n",
      "RangeIndex: 4069 entries, 0 to 4068\n",
      "Data columns (total 21 columns):\n",
      " #   Column          Non-Null Count  Dtype  \n",
      "---  ------          --------------  -----  \n",
      " 0   order_id        4069 non-null   int64  \n",
      " 1   customer_id     4069 non-null   int64  \n",
      " 2   order_date      4069 non-null   object \n",
      " 3   required_date   4069 non-null   object \n",
      " 4   shipped_date    4069 non-null   object \n",
      " 5   store_id        4069 non-null   int64  \n",
      " 6   staff_id        4069 non-null   int64  \n",
      " 7   late_delivery   4069 non-null   bool   \n",
      " 8   latency_days    4069 non-null   object \n",
      " 9   weekend         4069 non-null   bool   \n",
      " 10  item_id         4069 non-null   int64  \n",
      " 11  product_id      4069 non-null   int64  \n",
      " 12  quantity        4069 non-null   int64  \n",
      " 13  discount        4069 non-null   float64\n",
      " 14  rates.EGP       4069 non-null   float64\n",
      " 15  list_price_egp  4069 non-null   float64\n",
      " 16  product_name    4069 non-null   object \n",
      " 17  brand_id        4069 non-null   int64  \n",
      " 18  category_id     4069 non-null   int64  \n",
      " 19  model_year      4069 non-null   int64  \n",
      " 20  order_status    4069 non-null   object \n",
      "dtypes: bool(2), float64(3), int64(10), object(6)\n",
      "memory usage: 612.1+ KB\n"
     ]
    }
   ],
   "source": [
    "final_df.info()"
   ]
  },
  {
   "cell_type": "code",
   "execution_count": null,
   "metadata": {},
   "outputs": [],
   "source": []
  }
 ],
 "metadata": {
  "kernelspec": {
   "display_name": "Python 3",
   "language": "python",
   "name": "python3"
  },
  "language_info": {
   "codemirror_mode": {
    "name": "ipython",
    "version": 3
   },
   "file_extension": ".py",
   "mimetype": "text/x-python",
   "name": "python",
   "nbconvert_exporter": "python",
   "pygments_lexer": "ipython3",
   "version": "3.11.3"
  }
 },
 "nbformat": 4,
 "nbformat_minor": 2
}
