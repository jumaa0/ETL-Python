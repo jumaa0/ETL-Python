{
 "cells": [
  {
   "cell_type": "code",
   "execution_count": 54,
   "id": "0ae6e4cb",
   "metadata": {},
   "outputs": [],
   "source": [
    "import pandas as pd"
   ]
  },
  {
   "cell_type": "code",
   "execution_count": 63,
   "id": "f358745f",
   "metadata": {},
   "outputs": [],
   "source": [
    "order_items = pd.read_csv('../Extraction/Landing/order_items/order_items.csv')"
   ]
  },
  {
   "cell_type": "code",
   "execution_count": 64,
   "id": "b1be4f5a",
   "metadata": {},
   "outputs": [],
   "source": [
    "order_items.drop_duplicates(inplace=True)\n",
    "order_items.dropna(inplace=True)"
   ]
  },
  {
   "cell_type": "code",
   "execution_count": 65,
   "id": "290d408b",
   "metadata": {},
   "outputs": [
    {
     "data": {
      "text/plain": [
       "order_id           0\n",
       "item_id            0\n",
       "product_id         0\n",
       "quantity           0\n",
       "list_price         0\n",
       "discount           0\n",
       "source             0\n",
       "timestamp_saved    0\n",
       "dtype: int64"
      ]
     },
     "execution_count": 65,
     "metadata": {},
     "output_type": "execute_result"
    }
   ],
   "source": [
    "order_items.isnull().sum()"
   ]
  },
  {
   "cell_type": "code",
   "execution_count": 66,
   "id": "55a99465",
   "metadata": {},
   "outputs": [
    {
     "data": {
      "text/plain": [
       "0"
      ]
     },
     "execution_count": 66,
     "metadata": {},
     "output_type": "execute_result"
    }
   ],
   "source": [
    "order_items.duplicated().sum()"
   ]
  },
  {
   "cell_type": "code",
   "execution_count": 67,
   "id": "ad975569",
   "metadata": {},
   "outputs": [],
   "source": [
    "order_items = order_items[(order_items['list_price'] >= 200) & (order_items['list_price'] <= 10000)]"
   ]
  },
  {
   "cell_type": "code",
   "execution_count": 68,
   "id": "57589c5d",
   "metadata": {},
   "outputs": [],
   "source": [
    "order_items = order_items[order_items['item_id'].astype(str).str.isdigit()]"
   ]
  },
  {
   "cell_type": "code",
   "execution_count": 69,
   "id": "3e737251",
   "metadata": {},
   "outputs": [],
   "source": [
    "order_items['item_id'] = order_items['item_id'].astype(int)"
   ]
  },
  {
   "cell_type": "code",
   "execution_count": 70,
   "id": "f567e7bd",
   "metadata": {},
   "outputs": [
    {
     "name": "stdout",
     "output_type": "stream",
     "text": [
      "<class 'pandas.core.frame.DataFrame'>\n",
      "Int64Index: 4601 entries, 0 to 4759\n",
      "Data columns (total 8 columns):\n",
      " #   Column           Non-Null Count  Dtype  \n",
      "---  ------           --------------  -----  \n",
      " 0   order_id         4601 non-null   int64  \n",
      " 1   item_id          4601 non-null   int64  \n",
      " 2   product_id       4601 non-null   int64  \n",
      " 3   quantity         4601 non-null   int64  \n",
      " 4   list_price       4601 non-null   float64\n",
      " 5   discount         4601 non-null   float64\n",
      " 6   source           4601 non-null   object \n",
      " 7   timestamp_saved  4601 non-null   object \n",
      "dtypes: float64(2), int64(4), object(2)\n",
      "memory usage: 323.5+ KB\n"
     ]
    }
   ],
   "source": [
    "order_items.info()"
   ]
  },
  {
   "cell_type": "code",
   "execution_count": 78,
   "id": "c393958d",
   "metadata": {},
   "outputs": [],
   "source": [
    "products = pd.read_csv('../Extraction/Landing/Products/products.csv')\n",
    "product_ids = products['product_id'].unique()\n",
    "order_items.drop(order_items[~order_items['product_id'].isin(product_ids)].index, inplace=True)"
   ]
  },
  {
   "cell_type": "code",
   "execution_count": 79,
   "id": "0ed8950a",
   "metadata": {},
   "outputs": [],
   "source": [
    "order_items.to_csv('../Extraction/Landing/order_items/order_items.csv', index = False)"
   ]
  },
  {
   "cell_type": "code",
   "execution_count": null,
   "id": "35a6d326",
   "metadata": {},
   "outputs": [],
   "source": []
  },
  {
   "cell_type": "code",
   "execution_count": null,
   "id": "e6e85ff4",
   "metadata": {},
   "outputs": [],
   "source": []
  }
 ],
 "metadata": {
  "kernelspec": {
   "display_name": "Python 3 (ipykernel)",
   "language": "python",
   "name": "python3"
  },
  "language_info": {
   "codemirror_mode": {
    "name": "ipython",
    "version": 3
   },
   "file_extension": ".py",
   "mimetype": "text/x-python",
   "name": "python",
   "nbconvert_exporter": "python",
   "pygments_lexer": "ipython3",
   "version": "3.9.12"
  }
 },
 "nbformat": 4,
 "nbformat_minor": 5
}
