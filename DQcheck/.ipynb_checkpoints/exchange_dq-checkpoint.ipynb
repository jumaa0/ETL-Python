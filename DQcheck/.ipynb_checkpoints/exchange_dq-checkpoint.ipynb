{
 "cells": [
  {
   "cell_type": "code",
   "execution_count": 23,
   "id": "0d427ed2",
   "metadata": {},
   "outputs": [],
   "source": [
    "import pandas as pd"
   ]
  },
  {
   "cell_type": "code",
   "execution_count": 44,
   "id": "12a24bc6",
   "metadata": {},
   "outputs": [],
   "source": [
    "exchange = pd.read_csv('../Extraction/Landing/Exchange/exchange.csv')"
   ]
  },
  {
   "cell_type": "code",
   "execution_count": 45,
   "id": "37875d76",
   "metadata": {},
   "outputs": [],
   "source": [
    "exchange.drop_duplicates(inplace=True)\n",
    "exchange.dropna(inplace=True)"
   ]
  },
  {
   "cell_type": "code",
   "execution_count": 46,
   "id": "c23b2ab0",
   "metadata": {},
   "outputs": [
    {
     "data": {
      "text/plain": [
       "base                    0\n",
       "rates.EGP               0\n",
       "response_timestamp      0\n",
       "extraction_source       0\n",
       "extraction_timestamp    0\n",
       "dtype: int64"
      ]
     },
     "execution_count": 46,
     "metadata": {},
     "output_type": "execute_result"
    }
   ],
   "source": [
    "exchange.isnull().sum()"
   ]
  },
  {
   "cell_type": "code",
   "execution_count": 47,
   "id": "a478dba0",
   "metadata": {},
   "outputs": [
    {
     "data": {
      "text/plain": [
       "0"
      ]
     },
     "execution_count": 47,
     "metadata": {},
     "output_type": "execute_result"
    }
   ],
   "source": [
    "exchange.duplicated().sum()"
   ]
  },
  {
   "cell_type": "code",
   "execution_count": 43,
   "id": "177d9927",
   "metadata": {},
   "outputs": [],
   "source": [
    "exchange.to_csv('../Extraction/Landing/Exchange/exchange.csv', index = False)"
   ]
  },
  {
   "cell_type": "code",
   "execution_count": null,
   "id": "74b1da5e",
   "metadata": {},
   "outputs": [],
   "source": []
  }
 ],
 "metadata": {
  "kernelspec": {
   "display_name": "Python 3 (ipykernel)",
   "language": "python",
   "name": "python3"
  },
  "language_info": {
   "codemirror_mode": {
    "name": "ipython",
    "version": 3
   },
   "file_extension": ".py",
   "mimetype": "text/x-python",
   "name": "python",
   "nbconvert_exporter": "python",
   "pygments_lexer": "ipython3",
   "version": "3.9.12"
  }
 },
 "nbformat": 4,
 "nbformat_minor": 5
}
