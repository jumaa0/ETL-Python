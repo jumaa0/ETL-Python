{
 "cells": [
  {
   "cell_type": "code",
   "execution_count": 23,
   "id": "933d4df0",
   "metadata": {},
   "outputs": [],
   "source": [
    "import pandas as pd"
   ]
  },
  {
   "cell_type": "code",
   "execution_count": 40,
   "id": "5519a247",
   "metadata": {},
   "outputs": [],
   "source": [
    "staffs = pd.read_csv('../Extraction/Landing/Staffs/staffs.csv')"
   ]
  },
  {
   "cell_type": "code",
   "execution_count": 41,
   "id": "809a6f14",
   "metadata": {},
   "outputs": [],
   "source": [
    "staffs.drop_duplicates(inplace=True)\n",
    "staffs.dropna(inplace=True)"
   ]
  },
  {
   "cell_type": "code",
   "execution_count": 42,
   "id": "4c6810f6",
   "metadata": {},
   "outputs": [
    {
     "data": {
      "text/plain": [
       "staff_id           0\n",
       "first_name         0\n",
       "last_name          0\n",
       "email              0\n",
       "phone              0\n",
       "active             0\n",
       "store_id           0\n",
       "manager_id         0\n",
       "source             0\n",
       "timestamp_saved    0\n",
       "dtype: int64"
      ]
     },
     "execution_count": 42,
     "metadata": {},
     "output_type": "execute_result"
    }
   ],
   "source": [
    "staffs.isnull().sum()"
   ]
  },
  {
   "cell_type": "code",
   "execution_count": 38,
   "id": "6860d08f",
   "metadata": {},
   "outputs": [
    {
     "data": {
      "text/plain": [
       "0"
      ]
     },
     "execution_count": 38,
     "metadata": {},
     "output_type": "execute_result"
    }
   ],
   "source": [
    "staffs.duplicated().sum()"
   ]
  },
  {
   "cell_type": "code",
   "execution_count": 43,
   "id": "ed863c87",
   "metadata": {},
   "outputs": [],
   "source": [
    "staffs.to_csv('../Extraction/Landing/Staffs/staffs.csv', index = False)"
   ]
  },
  {
   "cell_type": "code",
   "execution_count": null,
   "id": "c4ee5109",
   "metadata": {},
   "outputs": [],
   "source": []
  }
 ],
 "metadata": {
  "kernelspec": {
   "display_name": "Python 3 (ipykernel)",
   "language": "python",
   "name": "python3"
  },
  "language_info": {
   "codemirror_mode": {
    "name": "ipython",
    "version": 3
   },
   "file_extension": ".py",
   "mimetype": "text/x-python",
   "name": "python",
   "nbconvert_exporter": "python",
   "pygments_lexer": "ipython3",
   "version": "3.9.12"
  }
 },
 "nbformat": 4,
 "nbformat_minor": 5
}
