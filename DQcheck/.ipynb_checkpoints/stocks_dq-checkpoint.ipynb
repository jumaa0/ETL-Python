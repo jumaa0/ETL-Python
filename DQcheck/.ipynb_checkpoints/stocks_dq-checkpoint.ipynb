{
 "cells": [
  {
   "cell_type": "code",
   "execution_count": 23,
   "id": "c3aa468c",
   "metadata": {},
   "outputs": [],
   "source": [
    "import pandas as pd"
   ]
  },
  {
   "cell_type": "code",
   "execution_count": 35,
   "id": "a6aa8234",
   "metadata": {},
   "outputs": [],
   "source": [
    "stocks = pd.read_csv('../Extraction/Landing/Stocks/stocks.csv')"
   ]
  },
  {
   "cell_type": "code",
   "execution_count": 36,
   "id": "e99f69fb",
   "metadata": {},
   "outputs": [],
   "source": [
    "stocks.drop_duplicates(inplace=True)\n",
    "stocks.dropna(inplace=True)"
   ]
  },
  {
   "cell_type": "code",
   "execution_count": 37,
   "id": "11e9252b",
   "metadata": {},
   "outputs": [
    {
     "data": {
      "text/plain": [
       "store_id           0\n",
       "product_id         0\n",
       "quantity           0\n",
       "source             0\n",
       "timestamp_saved    0\n",
       "dtype: int64"
      ]
     },
     "execution_count": 37,
     "metadata": {},
     "output_type": "execute_result"
    }
   ],
   "source": [
    "stocks.isnull().sum()"
   ]
  },
  {
   "cell_type": "code",
   "execution_count": 38,
   "id": "40431ea4",
   "metadata": {},
   "outputs": [
    {
     "data": {
      "text/plain": [
       "0"
      ]
     },
     "execution_count": 38,
     "metadata": {},
     "output_type": "execute_result"
    }
   ],
   "source": [
    "stocks.duplicated().sum()"
   ]
  },
  {
   "cell_type": "code",
   "execution_count": 39,
   "id": "29f5b15d",
   "metadata": {},
   "outputs": [],
   "source": [
    "stocks.to_csv('../Extraction/Landing/Stocks/stocks.csv', index = False)"
   ]
  },
  {
   "cell_type": "code",
   "execution_count": null,
   "id": "08c86dc6",
   "metadata": {},
   "outputs": [],
   "source": []
  }
 ],
 "metadata": {
  "kernelspec": {
   "display_name": "Python 3 (ipykernel)",
   "language": "python",
   "name": "python3"
  },
  "language_info": {
   "codemirror_mode": {
    "name": "ipython",
    "version": 3
   },
   "file_extension": ".py",
   "mimetype": "text/x-python",
   "name": "python",
   "nbconvert_exporter": "python",
   "pygments_lexer": "ipython3",
   "version": "3.9.12"
  }
 },
 "nbformat": 4,
 "nbformat_minor": 5
}
