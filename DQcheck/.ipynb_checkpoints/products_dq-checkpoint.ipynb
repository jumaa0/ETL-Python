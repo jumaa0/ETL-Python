{
 "cells": [
  {
   "cell_type": "code",
   "execution_count": null,
   "id": "b6dbd56c",
   "metadata": {},
   "outputs": [],
   "source": [
    "import pandas as pd"
   ]
  },
  {
   "cell_type": "code",
   "execution_count": 11,
   "id": "451d7c18",
   "metadata": {},
   "outputs": [],
   "source": [
    "products = pd.read_csv('../Extraction/Landing/Products/products.csv')"
   ]
  },
  {
   "cell_type": "code",
   "execution_count": 15,
   "id": "ec4d531e",
   "metadata": {},
   "outputs": [
    {
     "data": {
      "text/plain": [
       "0"
      ]
     },
     "execution_count": 15,
     "metadata": {},
     "output_type": "execute_result"
    }
   ],
   "source": [
    "products.duplicated().sum()"
   ]
  },
  {
   "cell_type": "code",
   "execution_count": 17,
   "id": "cb4efc09",
   "metadata": {},
   "outputs": [],
   "source": [
    "products.drop_duplicates(inplace=True)\n",
    "products.dropna(inplace=True)"
   ]
  },
  {
   "cell_type": "code",
   "execution_count": 18,
   "id": "e81593ad",
   "metadata": {},
   "outputs": [
    {
     "data": {
      "text/plain": [
       "product_id         0\n",
       "product_name       0\n",
       "brand_id           0\n",
       "category_id        0\n",
       "model_year         0\n",
       "list_price         0\n",
       "source             0\n",
       "timestamp_saved    0\n",
       "dtype: int64"
      ]
     },
     "execution_count": 18,
     "metadata": {},
     "output_type": "execute_result"
    }
   ],
   "source": [
    "products.isnull().sum()"
   ]
  },
  {
   "cell_type": "code",
   "execution_count": 19,
   "id": "31dce913",
   "metadata": {},
   "outputs": [],
   "source": [
    "products.to_csv('../Extraction/Landing/Products/products.csv', index = False)"
   ]
  },
  {
   "cell_type": "code",
   "execution_count": null,
   "id": "14c1c014",
   "metadata": {},
   "outputs": [],
   "source": []
  }
 ],
 "metadata": {
  "kernelspec": {
   "display_name": "Python 3 (ipykernel)",
   "language": "python",
   "name": "python3"
  },
  "language_info": {
   "codemirror_mode": {
    "name": "ipython",
    "version": 3
   },
   "file_extension": ".py",
   "mimetype": "text/x-python",
   "name": "python",
   "nbconvert_exporter": "python",
   "pygments_lexer": "ipython3",
   "version": "3.9.12"
  }
 },
 "nbformat": 4,
 "nbformat_minor": 5
}
