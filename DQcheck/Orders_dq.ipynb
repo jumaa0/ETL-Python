{
 "cells": [
  {
   "cell_type": "code",
   "execution_count": 1,
   "id": "e63c4f76",
   "metadata": {},
   "outputs": [],
   "source": [
    "import pandas as pd"
   ]
  },
  {
   "cell_type": "code",
   "execution_count": 2,
   "id": "47f69ae4",
   "metadata": {},
   "outputs": [],
   "source": [
    "orders = pd.read_csv('../Extraction/Landing/Orders/orders.csv')"
   ]
  },
  {
   "cell_type": "code",
   "execution_count": 4,
   "id": "660546a2",
   "metadata": {},
   "outputs": [
    {
     "name": "stdout",
     "output_type": "stream",
     "text": [
      "<class 'pandas.core.frame.DataFrame'>\n",
      "RangeIndex: 1615 entries, 0 to 1614\n",
      "Data columns (total 10 columns):\n",
      " #   Column           Non-Null Count  Dtype \n",
      "---  ------           --------------  ----- \n",
      " 0   order_id         1615 non-null   int64 \n",
      " 1   customer_id      1615 non-null   int64 \n",
      " 2   order_status     1615 non-null   int64 \n",
      " 3   order_date       1615 non-null   object\n",
      " 4   required_date    1615 non-null   object\n",
      " 5   shipped_date     1445 non-null   object\n",
      " 6   store_id         1615 non-null   int64 \n",
      " 7   staff_id         1615 non-null   int64 \n",
      " 8   source           1615 non-null   object\n",
      " 9   timestamp_saved  1615 non-null   object\n",
      "dtypes: int64(5), object(5)\n",
      "memory usage: 126.3+ KB\n"
     ]
    }
   ],
   "source": [
    "orders.info()"
   ]
  },
  {
   "cell_type": "code",
   "execution_count": 6,
   "id": "ea2f965e",
   "metadata": {},
   "outputs": [
    {
     "data": {
      "text/plain": [
       "order_id             0\n",
       "customer_id          0\n",
       "order_status         0\n",
       "order_date           0\n",
       "required_date        0\n",
       "shipped_date       170\n",
       "store_id             0\n",
       "staff_id             0\n",
       "source               0\n",
       "timestamp_saved      0\n",
       "dtype: int64"
      ]
     },
     "execution_count": 6,
     "metadata": {},
     "output_type": "execute_result"
    }
   ],
   "source": [
    "orders.isnull().sum()"
   ]
  },
  {
   "cell_type": "code",
   "execution_count": 10,
   "id": "d94528da",
   "metadata": {},
   "outputs": [
    {
     "data": {
      "text/plain": [
       "0"
      ]
     },
     "execution_count": 10,
     "metadata": {},
     "output_type": "execute_result"
    }
   ],
   "source": [
    "orders.duplicated().sum()"
   ]
  },
  {
   "cell_type": "code",
   "execution_count": 7,
   "id": "a65a1c71",
   "metadata": {},
   "outputs": [],
   "source": [
    "#making sure order dates are within a reasonable range\n",
    "orders = orders[(orders['order_date'] >= '2000-01-01') & (orders['order_date'] <= '2024-12-31')]\n",
    "orders = orders[(orders['required_date'] >= '2000-01-01') & (orders['required_date'] <= '2024-12-31')]\n",
    "orders = orders[(orders['shipped_date'] >= '2000-01-01') & (orders['shipped_date'] <= '2024-12-31')]\n"
   ]
  },
  {
   "cell_type": "code",
   "execution_count": 8,
   "id": "d25d1cd0",
   "metadata": {},
   "outputs": [
    {
     "data": {
      "text/plain": [
       "order_id           0\n",
       "customer_id        0\n",
       "order_status       0\n",
       "order_date         0\n",
       "required_date      0\n",
       "shipped_date       0\n",
       "store_id           0\n",
       "staff_id           0\n",
       "source             0\n",
       "timestamp_saved    0\n",
       "dtype: int64"
      ]
     },
     "execution_count": 8,
     "metadata": {},
     "output_type": "execute_result"
    }
   ],
   "source": [
    "orders.isnull().sum()"
   ]
  },
  {
   "cell_type": "code",
   "execution_count": 9,
   "id": "736e8121",
   "metadata": {},
   "outputs": [],
   "source": [
    "import os\n",
    "\n",
    "directory = '../Staging_1/Orders'\n",
    "file_name = 'orders.csv'\n",
    "\n",
    "if not os.path.exists(directory):\n",
    "    os.makedirs(directory)\n",
    "\n",
    "orders.to_csv(os.path.join(directory, file_name), index=False)\n"
   ]
  },
  {
   "cell_type": "code",
   "execution_count": null,
   "id": "ee05828b",
   "metadata": {},
   "outputs": [],
   "source": []
  }
 ],
 "metadata": {
  "kernelspec": {
   "display_name": "Python 3 (ipykernel)",
   "language": "python",
   "name": "python3"
  },
  "language_info": {
   "codemirror_mode": {
    "name": "ipython",
    "version": 3
   },
   "file_extension": ".py",
   "mimetype": "text/x-python",
   "name": "python",
   "nbconvert_exporter": "python",
   "pygments_lexer": "ipython3",
   "version": "3.11.3"
  }
 },
 "nbformat": 4,
 "nbformat_minor": 5
}
