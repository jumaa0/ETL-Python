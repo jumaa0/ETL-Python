{
 "cells": [
  {
   "cell_type": "code",
   "execution_count": 2,
   "id": "0d427ed2",
   "metadata": {},
   "outputs": [],
   "source": [
    "import pandas as pd"
   ]
  },
  {
   "cell_type": "code",
   "execution_count": 3,
   "id": "12a24bc6",
   "metadata": {},
   "outputs": [],
   "source": [
    "exchange = pd.read_csv('../Extraction/Landing/Exchange/exchange.csv')"
   ]
  },
  {
   "cell_type": "code",
   "execution_count": 4,
   "id": "37875d76",
   "metadata": {},
   "outputs": [
    {
     "name": "stdout",
     "output_type": "stream",
     "text": [
      "<class 'pandas.core.frame.DataFrame'>\n",
      "RangeIndex: 1 entries, 0 to 0\n",
      "Data columns (total 5 columns):\n",
      " #   Column                Non-Null Count  Dtype  \n",
      "---  ------                --------------  -----  \n",
      " 0   base                  1 non-null      object \n",
      " 1   rates.EGP             1 non-null      float64\n",
      " 2   response_timestamp    1 non-null      int64  \n",
      " 3   extraction_source     1 non-null      object \n",
      " 4   extraction_timestamp  1 non-null      object \n",
      "dtypes: float64(1), int64(1), object(3)\n",
      "memory usage: 172.0+ bytes\n"
     ]
    }
   ],
   "source": [
    "exchange.info()"
   ]
  },
  {
   "cell_type": "code",
   "execution_count": 5,
   "id": "c23b2ab0",
   "metadata": {},
   "outputs": [
    {
     "data": {
      "text/plain": [
       "base                    0\n",
       "rates.EGP               0\n",
       "response_timestamp      0\n",
       "extraction_source       0\n",
       "extraction_timestamp    0\n",
       "dtype: int64"
      ]
     },
     "execution_count": 5,
     "metadata": {},
     "output_type": "execute_result"
    }
   ],
   "source": [
    "exchange.isnull().sum()"
   ]
  },
  {
   "cell_type": "code",
   "execution_count": 8,
   "id": "a478dba0",
   "metadata": {},
   "outputs": [
    {
     "data": {
      "text/plain": [
       "0"
      ]
     },
     "execution_count": 8,
     "metadata": {},
     "output_type": "execute_result"
    }
   ],
   "source": [
    "exchange.duplicated().sum()"
   ]
  },
  {
   "cell_type": "code",
   "execution_count": null,
   "id": "efe223b3",
   "metadata": {},
   "outputs": [],
   "source": [
    "#nothing needed"
   ]
  },
  {
   "cell_type": "code",
   "execution_count": 7,
   "id": "177d9927",
   "metadata": {},
   "outputs": [],
   "source": [
    "import os\n",
    "\n",
    "directory = '../Staging_1/Exchange'\n",
    "file_name = 'exchange.csv'\n",
    "\n",
    "if not os.path.exists(directory):\n",
    "    os.makedirs(directory)\n",
    "\n",
    "exchange.to_csv(os.path.join(directory, file_name), index=False)\n"
   ]
  },
  {
   "cell_type": "code",
   "execution_count": null,
   "id": "74b1da5e",
   "metadata": {},
   "outputs": [],
   "source": []
  }
 ],
 "metadata": {
  "kernelspec": {
   "display_name": "Python 3 (ipykernel)",
   "language": "python",
   "name": "python3"
  },
  "language_info": {
   "codemirror_mode": {
    "name": "ipython",
    "version": 3
   },
   "file_extension": ".py",
   "mimetype": "text/x-python",
   "name": "python",
   "nbconvert_exporter": "python",
   "pygments_lexer": "ipython3",
   "version": "3.11.3"
  }
 },
 "nbformat": 4,
 "nbformat_minor": 5
}
