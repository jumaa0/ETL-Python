{
 "cells": [
  {
   "cell_type": "code",
   "execution_count": 4,
   "id": "44ea0bd2",
   "metadata": {},
   "outputs": [],
   "source": [
    "import requests\n",
    "import json\n",
    "import pandas as pd\n",
    "from datetime import datetime\n",
    "response = requests.get(\"https://openexchangerates.org/api/latest.json\" , params={'app_id':'1ca82850a16540b393f9529352b72767'})\n",
    "\n",
    "data = response.json()\n",
    "df = pd.json_normalize(data)\n",
    "egp_df = df.loc[:, ['timestamp', 'base', 'rates.EGP']]\n",
    "egp_df['response_timestamp'] = egp_df['timestamp']\n",
    "\n",
    "egp_df.to_csv('exchange_rate.csv',index=False)"
   ]
  },
  {
   "cell_type": "code",
   "execution_count": null,
   "id": "0b8ad64a",
   "metadata": {},
   "outputs": [],
   "source": []
  }
 ],
 "metadata": {
  "kernelspec": {
   "display_name": "Python 3 (ipykernel)",
   "language": "python",
   "name": "python3"
  },
  "language_info": {
   "codemirror_mode": {
    "name": "ipython",
    "version": 3
   },
   "file_extension": ".py",
   "mimetype": "text/x-python",
   "name": "python",
   "nbconvert_exporter": "python",
   "pygments_lexer": "ipython3",
   "version": "3.9.12"
  }
 },
 "nbformat": 4,
 "nbformat_minor": 5
}
