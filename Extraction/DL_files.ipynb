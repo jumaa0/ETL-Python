{
 "cells": [
  {
   "cell_type": "code",
   "execution_count": 6,
   "id": "c6b1442d",
   "metadata": {},
   "outputs": [],
   "source": [
    "import pandas as pd\n",
    "import os"
   ]
  },
  {
   "cell_type": "code",
   "execution_count": 7,
   "id": "55f1cb53",
   "metadata": {},
   "outputs": [],
   "source": [
    "brands = pd.read_csv('../Bike_Dim/Brands/brands.csv')\n",
    "brands['source'] = 'DL'\n",
    "brands['timestamp_saved'] = pd.Timestamp.now()\n",
    "brands_path = 'Landing/Brands/brands.csv'\n",
    "os.makedirs(os.path.dirname(brands_path), exist_ok=True)\n",
    "brands.to_csv(brands_path, index = False)"
   ]
  },
  {
   "cell_type": "code",
   "execution_count": 8,
   "id": "0b8b4789",
   "metadata": {},
   "outputs": [],
   "source": [
    "categories = pd.read_csv('../Bike_Dim/Categories/categories.csv')\n",
    "categories['source'] = 'DL'\n",
    "categories['timestamp_saved'] = pd.Timestamp.now()\n",
    "categories_path = 'Landing/Categories/categories.csv'\n",
    "os.makedirs(os.path.dirname(categories_path), exist_ok=True)\n",
    "categories.to_csv(categories_path, index = False)"
   ]
  },
  {
   "cell_type": "code",
   "execution_count": 9,
   "id": "3f564693",
   "metadata": {},
   "outputs": [],
   "source": [
    "staffs = pd.read_csv('../Bike_Dim/Staffs/staffs.csv')\n",
    "staffs['source'] = 'DL'\n",
    "staffs['timestamp_saved'] = pd.Timestamp.now()\n",
    "staffs_path = 'Landing/Staffs/staffs.csv'\n",
    "os.makedirs(os.path.dirname(staffs_path), exist_ok=True)\n",
    "staffs.to_csv(staffs_path, index = False)"
   ]
  },
  {
   "cell_type": "code",
   "execution_count": 10,
   "id": "58845505",
   "metadata": {},
   "outputs": [],
   "source": [
    "customers = pd.read_csv('../Bike_Dim/Customers/customers.csv')\n",
    "customers['source'] = 'DL'\n",
    "customers['timestamp_saved'] = pd.Timestamp.now()\n",
    "customers_path = 'Landing/Customers/customers.csv'\n",
    "os.makedirs(os.path.dirname(customers_path), exist_ok=True)\n",
    "customers.to_csv(customers_path, index = False)"
   ]
  },
  {
   "cell_type": "code",
   "execution_count": 11,
   "id": "ec9ec7ed",
   "metadata": {},
   "outputs": [],
   "source": [
    "Products = pd.read_csv('../Bike_Dim/Products/products.csv')\n",
    "Products['source'] = 'DL'\n",
    "Products['timestamp_saved'] = pd.Timestamp.now()\n",
    "Products_path = 'Landing/Products/products.csv'\n",
    "os.makedirs(os.path.dirname(Products_path), exist_ok=True)\n",
    "Products.to_csv(Products_path, index = False)"
   ]
  },
  {
   "cell_type": "code",
   "execution_count": 12,
   "id": "49280602",
   "metadata": {},
   "outputs": [],
   "source": [
    "stores = pd.read_csv('../Bike_Dim/Stores/stores.csv')\n",
    "stores['source'] = 'DL'\n",
    "stores['timestamp_saved'] = pd.Timestamp.now()\n",
    "stores_path = 'Landing/Stores/stores.csv'\n",
    "os.makedirs(os.path.dirname(stores_path), exist_ok=True)\n",
    "stores.to_csv(stores_path, index = False)"
   ]
  },
  {
   "cell_type": "code",
   "execution_count": 13,
   "id": "c1ceeb44",
   "metadata": {},
   "outputs": [],
   "source": [
    "stocks = pd.read_csv('../Bike_Dim/Stocks/stocks.csv')\n",
    "stocks['source'] = 'DL'\n",
    "stocks['timestamp_saved'] = pd.Timestamp.now()\n",
    "stocks_path = 'Landing/Stocks/stocks.csv'\n",
    "os.makedirs(os.path.dirname(stocks_path), exist_ok=True)\n",
    "stocks.to_csv(stocks_path, index = False)"
   ]
  },
  {
   "cell_type": "code",
   "execution_count": null,
   "id": "e16c70bb",
   "metadata": {},
   "outputs": [],
   "source": []
  }
 ],
 "metadata": {
  "kernelspec": {
   "display_name": "Python 3 (ipykernel)",
   "language": "python",
   "name": "python3"
  },
  "language_info": {
   "codemirror_mode": {
    "name": "ipython",
    "version": 3
   },
   "file_extension": ".py",
   "mimetype": "text/x-python",
   "name": "python",
   "nbconvert_exporter": "python",
   "pygments_lexer": "ipython3",
   "version": "3.9.12"
  }
 },
 "nbformat": 4,
 "nbformat_minor": 5
}
