{
 "cells": [
  {
   "cell_type": "code",
   "execution_count": 11,
   "metadata": {},
   "outputs": [],
   "source": [
    "import pandas as pd\n",
    "import os"
   ]
  },
  {
   "cell_type": "code",
   "execution_count": 12,
   "metadata": {},
   "outputs": [],
   "source": [
    "\n",
    "\n",
    "# Load customers.csv and stores.csv\n",
    "customers_df = pd.read_csv('../Staging_1/Customers/customers.csv')\n",
    "stores_df = pd.read_csv('../Staging_1/Stores/stores.csv')\n"
   ]
  },
  {
   "cell_type": "code",
   "execution_count": 13,
   "metadata": {},
   "outputs": [
    {
     "data": {
      "text/plain": [
       "{'Baldwin', 'Rowlett', 'Santa Cruz'}"
      ]
     },
     "execution_count": 13,
     "metadata": {},
     "output_type": "execute_result"
    }
   ],
   "source": [
    "\n",
    "# Get a set of unique cities from the stores DataFrame\n",
    "store_cities = set(stores_df['city'])\n",
    "store_cities\n"
   ]
  },
  {
   "cell_type": "code",
   "execution_count": 14,
   "metadata": {},
   "outputs": [],
   "source": [
    "\n",
    "# Add a new column 'local' to customers_df and set default value to False\n",
    "customers_df['local'] = False\n",
    "\n",
    "# Update 'local' column to True for customers in cities where there's a store\n",
    "customers_df.loc[customers_df['city'].isin(store_cities), 'local'] = True\n",
    "\n"
   ]
  },
  {
   "cell_type": "code",
   "execution_count": 10,
   "metadata": {},
   "outputs": [
    {
     "data": {
      "text/html": [
       "<div>\n",
       "<style scoped>\n",
       "    .dataframe tbody tr th:only-of-type {\n",
       "        vertical-align: middle;\n",
       "    }\n",
       "\n",
       "    .dataframe tbody tr th {\n",
       "        vertical-align: top;\n",
       "    }\n",
       "\n",
       "    .dataframe thead th {\n",
       "        text-align: right;\n",
       "    }\n",
       "</style>\n",
       "<table border=\"1\" class=\"dataframe\">\n",
       "  <thead>\n",
       "    <tr style=\"text-align: right;\">\n",
       "      <th></th>\n",
       "      <th>customer_id</th>\n",
       "      <th>first_name</th>\n",
       "      <th>last_name</th>\n",
       "      <th>email</th>\n",
       "      <th>street</th>\n",
       "      <th>city</th>\n",
       "      <th>state</th>\n",
       "      <th>zip_code</th>\n",
       "      <th>source</th>\n",
       "      <th>timestamp_saved</th>\n",
       "      <th>local</th>\n",
       "    </tr>\n",
       "  </thead>\n",
       "  <tbody>\n",
       "    <tr>\n",
       "      <th>193</th>\n",
       "      <td>194</td>\n",
       "      <td>Dorine</td>\n",
       "      <td>Roberson</td>\n",
       "      <td>dorine.roberson@msn.com</td>\n",
       "      <td>396 Meadowbrook Lane</td>\n",
       "      <td>Santa Cruz</td>\n",
       "      <td>CA</td>\n",
       "      <td>95060</td>\n",
       "      <td>DL</td>\n",
       "      <td>2024-05-02 09:24:15.902993</td>\n",
       "      <td>True</td>\n",
       "    </tr>\n",
       "    <tr>\n",
       "      <th>475</th>\n",
       "      <td>476</td>\n",
       "      <td>Christopher</td>\n",
       "      <td>Richardson</td>\n",
       "      <td>christopher.richardson@gmail.com</td>\n",
       "      <td>7846 Windfall Dr.</td>\n",
       "      <td>Santa Cruz</td>\n",
       "      <td>CA</td>\n",
       "      <td>95060</td>\n",
       "      <td>DL</td>\n",
       "      <td>2024-05-02 09:24:15.902993</td>\n",
       "      <td>True</td>\n",
       "    </tr>\n",
       "    <tr>\n",
       "      <th>711</th>\n",
       "      <td>712</td>\n",
       "      <td>Kecia</td>\n",
       "      <td>Olsen</td>\n",
       "      <td>kecia.olsen@msn.com</td>\n",
       "      <td>8389 Central St.</td>\n",
       "      <td>Santa Cruz</td>\n",
       "      <td>CA</td>\n",
       "      <td>95060</td>\n",
       "      <td>DL</td>\n",
       "      <td>2024-05-02 09:24:15.902993</td>\n",
       "      <td>True</td>\n",
       "    </tr>\n",
       "    <tr>\n",
       "      <th>1414</th>\n",
       "      <td>1415</td>\n",
       "      <td>Harold</td>\n",
       "      <td>O'connor</td>\n",
       "      <td>harold.o'connor@gmail.com</td>\n",
       "      <td>9530 Summerhouse Street</td>\n",
       "      <td>Santa Cruz</td>\n",
       "      <td>CA</td>\n",
       "      <td>95060</td>\n",
       "      <td>DL</td>\n",
       "      <td>2024-05-02 09:24:15.902993</td>\n",
       "      <td>True</td>\n",
       "    </tr>\n",
       "    <tr>\n",
       "      <th>1427</th>\n",
       "      <td>1428</td>\n",
       "      <td>Carola</td>\n",
       "      <td>Johns</td>\n",
       "      <td>carola.johns@msn.com</td>\n",
       "      <td>7077 Fordham Rd.</td>\n",
       "      <td>Santa Cruz</td>\n",
       "      <td>CA</td>\n",
       "      <td>95060</td>\n",
       "      <td>DL</td>\n",
       "      <td>2024-05-02 09:24:15.902993</td>\n",
       "      <td>True</td>\n",
       "    </tr>\n",
       "  </tbody>\n",
       "</table>\n",
       "</div>"
      ],
      "text/plain": [
       "      customer_id   first_name   last_name                             email  \\\n",
       "193           194       Dorine    Roberson           dorine.roberson@msn.com   \n",
       "475           476  Christopher  Richardson  christopher.richardson@gmail.com   \n",
       "711           712        Kecia       Olsen               kecia.olsen@msn.com   \n",
       "1414         1415       Harold    O'connor         harold.o'connor@gmail.com   \n",
       "1427         1428       Carola       Johns              carola.johns@msn.com   \n",
       "\n",
       "                        street        city state  zip_code source  \\\n",
       "193      396 Meadowbrook Lane   Santa Cruz    CA     95060     DL   \n",
       "475         7846 Windfall Dr.   Santa Cruz    CA     95060     DL   \n",
       "711          8389 Central St.   Santa Cruz    CA     95060     DL   \n",
       "1414  9530 Summerhouse Street   Santa Cruz    CA     95060     DL   \n",
       "1427         7077 Fordham Rd.   Santa Cruz    CA     95060     DL   \n",
       "\n",
       "                 timestamp_saved  local  \n",
       "193   2024-05-02 09:24:15.902993   True  \n",
       "475   2024-05-02 09:24:15.902993   True  \n",
       "711   2024-05-02 09:24:15.902993   True  \n",
       "1414  2024-05-02 09:24:15.902993   True  \n",
       "1427  2024-05-02 09:24:15.902993   True  "
      ]
     },
     "execution_count": 10,
     "metadata": {},
     "output_type": "execute_result"
    }
   ],
   "source": [
    "#just checking they were correctly set to true\n",
    "santa_cruz_customers = customers_df[customers_df['city'] == 'Santa Cruz']\n",
    "santa_cruz_customers\n"
   ]
  },
  {
   "cell_type": "code",
   "execution_count": 15,
   "metadata": {},
   "outputs": [],
   "source": [
    "file_path = '../Staging_2/Customers/customers.csv'\n",
    "\n",
    "os.makedirs(os.path.dirname(file_path), exist_ok=True)\n",
    "customers_df.to_csv(file_path, index = False) "
   ]
  },
  {
   "cell_type": "code",
   "execution_count": null,
   "metadata": {},
   "outputs": [],
   "source": []
  }
 ],
 "metadata": {
  "kernelspec": {
   "display_name": "Python 3",
   "language": "python",
   "name": "python3"
  },
  "language_info": {
   "codemirror_mode": {
    "name": "ipython",
    "version": 3
   },
   "file_extension": ".py",
   "mimetype": "text/x-python",
   "name": "python",
   "nbconvert_exporter": "python",
   "pygments_lexer": "ipython3",
   "version": "3.11.3"
  }
 },
 "nbformat": 4,
 "nbformat_minor": 2
}
